{
 "cells": [
  {
   "cell_type": "code",
   "execution_count": 67,
   "metadata": {},
   "outputs": [],
   "source": [
    "#imports\n",
    "from pathlib import Path\n",
    "import csv\n",
    "\n",
    "#set path\n",
    "csvpath=Path('C:/Users/avign/Desktop/cu-nyc-fin-pt-09-2020-u-c/Homework/02-Python/Instructions/PyBank/Resources/budget_data.csv')"
   ]
  },
  {
   "cell_type": "code",
   "execution_count": 68,
   "metadata": {},
   "outputs": [],
   "source": [
    "#initialize variables\n",
    "revenue = 0\n",
    "total_revenue = 0\n",
    "previous_revenue = 0\n",
    "change_in_revenue_list = []\n",
    "change_in_revenue = 0\n",
    "total_changes = 0\n",
    "month_of_change = []\n",
    "sum_of_changes = 0\n",
    "average_change = 0\n",
    "date= \"\"\n",
    "average_change = 0\n",
    "count_of_month = 0\n",
    "max_change = 0\n",
    "min_change = 0\n",
    "dates = []\n",
    "max_date = \"\"\n",
    "min_date = \"\"\n",
    "initial_change = 867884\n"
   ]
  },
  {
   "cell_type": "code",
   "execution_count": 69,
   "metadata": {},
   "outputs": [],
   "source": [
    "with open(csvpath, 'r') as csvfile:\n",
    "    csvreader = csv.reader(csvfile, delimiter=',')\n",
    "    header = next(csvreader)\n",
    "    \n",
    "    for n in csvreader:\n",
    "        date = n[0]\n",
    "        dates.append(date)\n",
    "        count_of_month += 1\n",
    "        revenue = int(n[1])\n",
    "        total_revenue += revenue\n",
    "        if  count_of_month > 1:\n",
    "            change_in_revenue = revenue - previous_revenue\n",
    "            change_in_revenue_list.append(change_in_revenue)\n",
    "        previous_revenue = revenue"
   ]
  },
  {
   "cell_type": "code",
   "execution_count": 70,
   "metadata": {},
   "outputs": [],
   "source": [
    "sum_of_changes = sum(change_in_revenue_list)\n",
    "average_change = (sum_of_changes)/(count_of_month-1)\n",
    "average_rounded = round(average_change,2)\n",
    "max_change = max(change_in_revenue_list)\n",
    "min_change = min(change_in_revenue_list)\n",
    "index_of_max = change_in_revenue_list.index(max_change)\n",
    "index_of_min = change_in_revenue_list.index(min_change)\n",
    "max_date = dates[index_of_max+1]\n",
    "min_date = dates[index_of_min+1]"
   ]
  },
  {
   "cell_type": "code",
   "execution_count": 71,
   "metadata": {},
   "outputs": [
    {
     "name": "stdout",
     "output_type": "stream",
     "text": [
      "86\n",
      "38382578\n",
      "-196785\n",
      "-2315.1176470588234\n",
      "1926159\n",
      "-2196167\n",
      "24\n",
      "43\n",
      "12-Feb\n",
      "13-Sep\n"
     ]
    }
   ],
   "source": [
    "print(count_of_month)\n",
    "print(total_revenue)\n",
    "print(sum_of_changes)\n",
    "print(average_change)\n",
    "print(max_change)\n",
    "print(min_change)\n",
    "print(index_of_max)\n",
    "print(index_of_min)\n",
    "print(max_date)\n",
    "print(min_date)"
   ]
  },
  {
   "cell_type": "code",
   "execution_count": 72,
   "metadata": {},
   "outputs": [],
   "source": [
    "output_path = Path('C:/Users/avign/Desktop/python-homework-master/PyBank/output.txt')\n",
    "with open(output_path, 'w') as file:\n",
    "    # Write daily_average to the output file, convert to string\n",
    "    file.write(\"Financial Analysis\\n\")\n",
    "    file.write(\"_ _ _ _ _ _ _ _ _ _ _ _ _ _ _ _ \\n\")\n",
    "    file.write(f\"Total Months: {count_of_month}\\n\")\n",
    "    file.write(f\"Total Revenue: {total_revenue}\\n\")\n",
    "    file.write(f\"Average Revenue Change: ${average_rounded}\\n\")\n",
    "    file.write(f\"Greatest increase in Profits: {max_date} ${max_change}\\n\")\n",
    "    file.write(f\"Greatest decrease in Profits: {min_date} ${min_change}\\n\")"
   ]
  },
  {
   "cell_type": "code",
   "execution_count": null,
   "metadata": {},
   "outputs": [],
   "source": []
  },
  {
   "cell_type": "code",
   "execution_count": null,
   "metadata": {},
   "outputs": [],
   "source": []
  },
  {
   "cell_type": "code",
   "execution_count": null,
   "metadata": {},
   "outputs": [],
   "source": []
  }
 ],
 "metadata": {
  "kernelspec": {
   "display_name": "Python 3",
   "language": "python",
   "name": "python3"
  },
  "language_info": {
   "codemirror_mode": {
    "name": "ipython",
    "version": 3
   },
   "file_extension": ".py",
   "mimetype": "text/x-python",
   "name": "python",
   "nbconvert_exporter": "python",
   "pygments_lexer": "ipython3",
   "version": "3.8.5"
  }
 },
 "nbformat": 4,
 "nbformat_minor": 4
}
